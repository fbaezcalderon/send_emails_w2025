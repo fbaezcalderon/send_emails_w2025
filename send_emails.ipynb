{
 "cells": [
  {
   "cell_type": "code",
   "execution_count": 23,
   "metadata": {},
   "outputs": [],
   "source": [
    "import pandas as pd\n",
    "import smtplib\n",
    "import configparser"
   ]
  },
  {
   "cell_type": "code",
   "execution_count": 19,
   "metadata": {},
   "outputs": [
    {
     "data": {
      "text/plain": [
       "['config.ini']"
      ]
     },
     "execution_count": 19,
     "metadata": {},
     "output_type": "execute_result"
    }
   ],
   "source": [
    "config = configparser.ConfigParser()\n",
    "config.read('config.ini')"
   ]
  },
  {
   "cell_type": "code",
   "execution_count": 12,
   "metadata": {},
   "outputs": [
    {
     "data": {
      "text/plain": [
       "'1234'"
      ]
     },
     "execution_count": 12,
     "metadata": {},
     "output_type": "execute_result"
    }
   ],
   "source": [
    "config['SECTION1']['var1']"
   ]
  },
  {
   "cell_type": "code",
   "execution_count": 13,
   "metadata": {},
   "outputs": [
    {
     "data": {
      "text/plain": [
       "'Fabian Baez'"
      ]
     },
     "execution_count": 13,
     "metadata": {},
     "output_type": "execute_result"
    }
   ],
   "source": [
    "config['SECTION2']['var1']"
   ]
  },
  {
   "cell_type": "markdown",
   "metadata": {},
   "source": [
    "# Simple email "
   ]
  },
  {
   "cell_type": "code",
   "execution_count": 14,
   "metadata": {},
   "outputs": [],
   "source": [
    "from email.mime.text import MIMEText\n",
    "from email.mime.multipart import MIMEMultipart\n"
   ]
  },
  {
   "cell_type": "code",
   "execution_count": 20,
   "metadata": {},
   "outputs": [],
   "source": [
    "def send_text_email(recipient_list,subject,email_body):\n",
    "    message =  MIMEMultipart()\n",
    "    \n",
    "    message['From'] = config['GMAIL']['sender']\n",
    "    message['To'] = recipient_list   #list of recipients\n",
    "    message['Subject'] = subject # string\n",
    "\n",
    "    message.attach(MIMEText(email_body,'plain'))\n",
    "\n",
    "    with smtplib.SMTP(config['GMAIL']['server'], config['GMAIL']['port']) as mail_server:\n",
    "        mail_server.starttls()  # Start connection\n",
    "        mail_server.login(config['GMAIL']['sender'],config['GMAIL']['password']) # provide user and password\n",
    "        mail_server.send_message(message)#send the email \n",
    "    \n",
    "    print('Email Sent')\n",
    "\n",
    "\n"
   ]
  },
  {
   "cell_type": "code",
   "execution_count": 22,
   "metadata": {},
   "outputs": [
    {
     "name": "stdout",
     "output_type": "stream",
     "text": [
      "Email Sent\n"
     ]
    }
   ],
   "source": [
    "send_text_email('operationalanalytics2@gmail.com','Hello Fabian' , 'Hello Fabian this is our email body')"
   ]
  },
  {
   "cell_type": "code",
   "execution_count": 25,
   "metadata": {},
   "outputs": [
    {
     "data": {
      "text/html": [
       "<div>\n",
       "<style scoped>\n",
       "    .dataframe tbody tr th:only-of-type {\n",
       "        vertical-align: middle;\n",
       "    }\n",
       "\n",
       "    .dataframe tbody tr th {\n",
       "        vertical-align: top;\n",
       "    }\n",
       "\n",
       "    .dataframe thead th {\n",
       "        text-align: right;\n",
       "    }\n",
       "</style>\n",
       "<table border=\"1\" class=\"dataframe\">\n",
       "  <thead>\n",
       "    <tr style=\"text-align: right;\">\n",
       "      <th></th>\n",
       "      <th>Username</th>\n",
       "      <th>Assignment: Working with process</th>\n",
       "      <th>Assignment: Control Charts Fundamentals</th>\n",
       "      <th>Assignment: Rule 5 Validation for Control Charts</th>\n",
       "      <th>Assignment:Quality Characteristic Identification</th>\n",
       "      <th>Week 1 Test Process and OA</th>\n",
       "      <th>Control Chart Test</th>\n",
       "      <th>Control Charts 2 Test [Total Pts: 100 Score] |843624</th>\n",
       "      <th>Quality Characteristics Test</th>\n",
       "      <th>Project: OA - Tools - Control Chart</th>\n",
       "      <th>Project: Sending seaborn chart week 1</th>\n",
       "      <th>Final Grade</th>\n",
       "    </tr>\n",
       "  </thead>\n",
       "  <tbody>\n",
       "    <tr>\n",
       "      <th>0</th>\n",
       "      <td>777591658281597</td>\n",
       "      <td>90.0</td>\n",
       "      <td>100.0</td>\n",
       "      <td>85.0</td>\n",
       "      <td>83.0</td>\n",
       "      <td>40</td>\n",
       "      <td>40.0</td>\n",
       "      <td>50</td>\n",
       "      <td>100.0</td>\n",
       "      <td>NaN</td>\n",
       "      <td>100</td>\n",
       "      <td>88.84705</td>\n",
       "    </tr>\n",
       "    <tr>\n",
       "      <th>1</th>\n",
       "      <td>982753008148116</td>\n",
       "      <td>80.0</td>\n",
       "      <td>78.0</td>\n",
       "      <td>40.0</td>\n",
       "      <td>8.5</td>\n",
       "      <td>40</td>\n",
       "      <td>80.0</td>\n",
       "      <td>50</td>\n",
       "      <td>100.0</td>\n",
       "      <td>NaN</td>\n",
       "      <td>0</td>\n",
       "      <td>42.88676</td>\n",
       "    </tr>\n",
       "    <tr>\n",
       "      <th>2</th>\n",
       "      <td>361208528119714</td>\n",
       "      <td>60.0</td>\n",
       "      <td>88.0</td>\n",
       "      <td>90.0</td>\n",
       "      <td>41.5</td>\n",
       "      <td>40</td>\n",
       "      <td>40.0</td>\n",
       "      <td>0</td>\n",
       "      <td>100.0</td>\n",
       "      <td>NaN</td>\n",
       "      <td>100</td>\n",
       "      <td>74.86617</td>\n",
       "    </tr>\n",
       "    <tr>\n",
       "      <th>3</th>\n",
       "      <td>125055452243448</td>\n",
       "      <td>90.0</td>\n",
       "      <td>94.5</td>\n",
       "      <td>55.0</td>\n",
       "      <td>58.5</td>\n",
       "      <td>40</td>\n",
       "      <td>100.0</td>\n",
       "      <td>0</td>\n",
       "      <td>100.0</td>\n",
       "      <td>NaN</td>\n",
       "      <td>0</td>\n",
       "      <td>55.28823</td>\n",
       "    </tr>\n",
       "    <tr>\n",
       "      <th>4</th>\n",
       "      <td>309236635102423</td>\n",
       "      <td>73.0</td>\n",
       "      <td>77.0</td>\n",
       "      <td>65.0</td>\n",
       "      <td>91.5</td>\n",
       "      <td>40</td>\n",
       "      <td>60.0</td>\n",
       "      <td>50</td>\n",
       "      <td>100.0</td>\n",
       "      <td>NaN</td>\n",
       "      <td>100</td>\n",
       "      <td>82.00441</td>\n",
       "    </tr>\n",
       "  </tbody>\n",
       "</table>\n",
       "</div>"
      ],
      "text/plain": [
       "          Username  Assignment: Working with process   \\\n",
       "0  777591658281597                               90.0   \n",
       "1  982753008148116                               80.0   \n",
       "2  361208528119714                               60.0   \n",
       "3  125055452243448                               90.0   \n",
       "4  309236635102423                               73.0   \n",
       "\n",
       "   Assignment: Control Charts Fundamentals  \\\n",
       "0                                    100.0   \n",
       "1                                     78.0   \n",
       "2                                     88.0   \n",
       "3                                     94.5   \n",
       "4                                     77.0   \n",
       "\n",
       "   Assignment: Rule 5 Validation for Control Charts  \\\n",
       "0                                              85.0   \n",
       "1                                              40.0   \n",
       "2                                              90.0   \n",
       "3                                              55.0   \n",
       "4                                              65.0   \n",
       "\n",
       "   Assignment:Quality Characteristic Identification  \\\n",
       "0                                              83.0   \n",
       "1                                               8.5   \n",
       "2                                              41.5   \n",
       "3                                              58.5   \n",
       "4                                              91.5   \n",
       "\n",
       "   Week 1 Test Process and OA   Control Chart Test   \\\n",
       "0                           40                 40.0   \n",
       "1                           40                 80.0   \n",
       "2                           40                 40.0   \n",
       "3                           40                100.0   \n",
       "4                           40                 60.0   \n",
       "\n",
       "   Control Charts 2 Test [Total Pts: 100 Score] |843624  \\\n",
       "0                                                 50      \n",
       "1                                                 50      \n",
       "2                                                  0      \n",
       "3                                                  0      \n",
       "4                                                 50      \n",
       "\n",
       "   Quality Characteristics Test  Project: OA - Tools - Control Chart   \\\n",
       "0                         100.0                                   NaN   \n",
       "1                         100.0                                   NaN   \n",
       "2                         100.0                                   NaN   \n",
       "3                         100.0                                   NaN   \n",
       "4                         100.0                                   NaN   \n",
       "\n",
       "   Project: Sending seaborn chart week 1  Final Grade  \n",
       "0                                    100     88.84705  \n",
       "1                                      0     42.88676  \n",
       "2                                    100     74.86617  \n",
       "3                                      0     55.28823  \n",
       "4                                    100     82.00441  "
      ]
     },
     "execution_count": 25,
     "metadata": {},
     "output_type": "execute_result"
    }
   ],
   "source": [
    "grades_df = pd.read_csv('grades.csv')\n",
    "grades_df.head()"
   ]
  },
  {
   "cell_type": "code",
   "execution_count": 27,
   "metadata": {},
   "outputs": [
    {
     "data": {
      "text/plain": [
       "count    22.000000\n",
       "mean     74.538130\n",
       "std      18.974492\n",
       "min      38.369110\n",
       "25%      60.182715\n",
       "50%      83.036760\n",
       "75%      88.552385\n",
       "max      93.889700\n",
       "Name: Final Grade, dtype: float64"
      ]
     },
     "execution_count": 27,
     "metadata": {},
     "output_type": "execute_result"
    }
   ],
   "source": [
    "grades_df['Final Grade'].describe()"
   ]
  },
  {
   "cell_type": "code",
   "execution_count": 32,
   "metadata": {},
   "outputs": [],
   "source": [
    "import seaborn as sns\n",
    "import tempfile\n",
    "from email.mime.image  import MIMEImage\n"
   ]
  },
  {
   "cell_type": "code",
   "execution_count": 34,
   "metadata": {},
   "outputs": [
    {
     "data": {
      "image/png": "[encoded data removed]",
      "text/plain": [
       "<Figure size 640x480 with 1 Axes>"
      ]
     },
     "metadata": {},
     "output_type": "display_data"
    }
   ],
   "source": [
    "box_plot = sns.boxplot(data=grades_df,x='Final Grade')\n",
    "box_plot.figure.savefig('name.png')\n",
    "sns.boxplot(data=grades_df,x='Final Grade').figure.savefig('grades_boxplot.png')"
   ]
  },
  {
   "cell_type": "code",
   "execution_count": 35,
   "metadata": {},
   "outputs": [],
   "source": [
    "def send_html_email(recipients, subject, body, sns_graph):\n",
    "    message = MIMEMultipart('mixed')\n",
    "    \n",
    "    message['From'] = config['GMAIL']['sender']\n",
    "    message['To'] = recipients   #list of recipients\n",
    "    message['Subject'] = subject # string\n",
    "\n",
    "    html_part =  MIMEText(body,'html')\n",
    "    message.attach(html_part)\n",
    "\n",
    "    temp_file =  tempfile.NamedTemporaryFile(suffix='.png', delete=False) #Crateing a temp file\n",
    "    sns_graph.figure.savefig(temp_file.name) # save seaborn plot in the temporary file\n",
    "\n",
    "    img = MIMEImage(temp_file.read())  # Creating an object \n",
    "    temp_file.close() # \n",
    "\n",
    "    #add hearders\n",
    "    # match the name with the content_id\n",
    "    img.add_header('Content-Disposition','inline',filename = 'graph1.png')\n",
    "    img.add_header('Content-ID','<graph1.png>')\n",
    "    \n",
    "    message.attach(img)\n",
    "\n",
    "\n",
    "    with smtplib.SMTP(config['GMAIL']['server'], config['GMAIL']['port']) as mail_server:\n",
    "        mail_server.starttls()  # Start connection\n",
    "        mail_server.login(config['GMAIL']['sender'],config['GMAIL']['password']) # provide user and password\n",
    "        mail_server.send_message(message)#send the email \n",
    "    \n",
    "    print('Email Sent')"
   ]
  },
  {
   "cell_type": "code",
   "execution_count": null,
   "metadata": {},
   "outputs": [],
   "source": [
    "html_body = '''\n",
    "<html>\n",
    "\n",
    "    <body>\n",
    "        <h2>Grades Results</h2>\n",
    "        <p> Dear Students</p>\n",
    "        <p> This is the boxplot</p>\n",
    "\n",
    "        <img src=\"cid:graph1.png\" >\n",
    "\n",
    "    </body>\n",
    "</html>\n",
    "\n",
    "'''\n",
    "\n"
   ]
  }
 ],
 "metadata": {
  "kernelspec": {
   "display_name": "uxs24",
   "language": "python",
   "name": "python3"
  },
  "language_info": {
   "codemirror_mode": {
    "name": "ipython",
    "version": 3
   },
   "file_extension": ".py",
   "mimetype": "text/x-python",
   "name": "python",
   "nbconvert_exporter": "python",
   "pygments_lexer": "ipython3",
   "version": "3.9.19"
  }
 },
 "nbformat": 4,
 "nbformat_minor": 2
}
